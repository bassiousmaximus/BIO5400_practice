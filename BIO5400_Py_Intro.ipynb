{
 "cells": [
  {
   "cell_type": "markdown",
   "id": "e69ad106-aba5-4dbd-8201-e940c86a0d6b",
   "metadata": {},
   "source": [
    "# Welcome to BIO5400\n",
    "We will play arround with and familirize ourselves with the Jupyter Notebook interpretor environment."
   ]
  },
  {
   "cell_type": "code",
   "execution_count": null,
   "id": "00e00952-5214-4e31-afb5-fbb1b0169d0f",
   "metadata": {},
   "outputs": [],
   "source": [
    "print(\"Quick Python interpreter demo\")"
   ]
  },
  {
   "cell_type": "code",
   "execution_count": 2,
   "id": "22d468aa-978e-43b1-8949-3d5eb7a4f17a",
   "metadata": {},
   "outputs": [
    {
     "data": {
      "text/plain": [
       "100"
      ]
     },
     "execution_count": 2,
     "metadata": {},
     "output_type": "execute_result"
    }
   ],
   "source": [
    "10*10"
   ]
  }
 ],
 "metadata": {
  "kernelspec": {
   "display_name": "Python 3 (ipykernel)",
   "language": "python",
   "name": "python3"
  },
  "language_info": {
   "codemirror_mode": {
    "name": "ipython",
    "version": 3
   },
   "file_extension": ".py",
   "mimetype": "text/x-python",
   "name": "python",
   "nbconvert_exporter": "python",
   "pygments_lexer": "ipython3",
   "version": "3.9.12"
  }
 },
 "nbformat": 4,
 "nbformat_minor": 5
}
